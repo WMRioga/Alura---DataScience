{
 "cells": [
  {
   "cell_type": "code",
   "execution_count": 48,
   "id": "107a1cae",
   "metadata": {},
   "outputs": [
    {
     "name": "stdout",
     "output_type": "stream",
     "text": [
      "You have chosen 5 attempts.\n",
      "The hidden number was 13.\n"
     ]
    }
   ],
   "source": [
    "import random\n",
    "\n",
    "hidden_number = random.randint(1, 100)\n",
    "if hidden_number > 10:\n",
    "    max_attempts = 5\n",
    "else:\n",
    "    max_attempts = 3\n",
    "while True:\n",
    "    try:\n",
    "        attempts = int(input(f\"How many attempts do you want? \\nPlease choose a number between 1 and {max_attempts}. \"))\n",
    "        if attempts < 1 or attempts > max_attempts:    \n",
    "            print(f\"Please choose a number between 1 and {max_attempts}.\")\n",
    "        else:\n",
    "            print(f\"You have chosen {attempts} attempts.\\nThe hidden number was {hidden_number}.\")\n",
    "            False\n",
    "            break\n",
    "    except ValueError:\n",
    "        print(f\"Invalid input. Please enter a number between 1 and {max_attempts}. \")\n",
    "# print(f\"Attempts: {attempts}\")"
   ]
  },
  {
   "cell_type": "code",
   "execution_count": 49,
   "id": "019d04b2",
   "metadata": {},
   "outputs": [
    {
     "name": "stdout",
     "output_type": "stream",
     "text": [
      "The hidden number is lower.\n",
      "You have 4 attempts left.\n",
      "Please enter a valid number. (between 1 and 100).\n",
      "Please enter a valid number. (between 1 and 100).\n",
      "The hidden number is lower.\n",
      "You have 3 attempts left.\n",
      "The hidden number is higher.\n",
      "You have 2 attempts left.\n",
      "Congratulations! You've guessed the hidden number 13! in 4 attempts.\n"
     ]
    }
   ],
   "source": [
    "if hidden_number > 10:\n",
    "    max_hidden_number = 100\n",
    "else:\n",
    "    max_hidden_number = 10\n",
    "while True:\n",
    "    try:\n",
    "        while attempts > 0:\n",
    "            guess = int(input(f\"Guess the hidden number (between 1 and {max_hidden_number}): \"))\n",
    "            if guess < 1 or guess > max_hidden_number:\n",
    "                print(f\"Please choose a number between 1 and {max_hidden_number}.\")\n",
    "            else:\n",
    "                if guess == hidden_number:\n",
    "                    print(f\"Congratulations! You've guessed the hidden number {hidden_number}! in {max_attempts - attempts + 1} attempts.\")\n",
    "                    break\n",
    "                else:\n",
    "                    attempts -= 1\n",
    "                    if guess < hidden_number:\n",
    "                        print(\"The hidden number is higher.\")\n",
    "                    else:\n",
    "                        print(\"The hidden number is lower.\")\n",
    "                    print(f\"You have {attempts} attempts left.\")\n",
    "                if attempts == 0:\n",
    "                    print(f\"Sorry, you've run out of attempts. The hidden number was {hidden_number}.\")\n",
    "                    break\n",
    "        False\n",
    "        break\n",
    "    except ValueError:\n",
    "        print(f\"Please enter a valid number. (between 1 and {max_hidden_number}).\")"
   ]
  }
 ],
 "metadata": {
  "kernelspec": {
   "display_name": "Python 3",
   "language": "python",
   "name": "python3"
  },
  "language_info": {
   "codemirror_mode": {
    "name": "ipython",
    "version": 3
   },
   "file_extension": ".py",
   "mimetype": "text/x-python",
   "name": "python",
   "nbconvert_exporter": "python",
   "pygments_lexer": "ipython3",
   "version": "3.13.5"
  }
 },
 "nbformat": 4,
 "nbformat_minor": 5
}
